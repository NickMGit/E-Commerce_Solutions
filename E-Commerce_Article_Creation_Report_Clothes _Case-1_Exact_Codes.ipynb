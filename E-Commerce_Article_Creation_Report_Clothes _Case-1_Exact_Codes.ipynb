{
 "cells": [
  {
   "cell_type": "markdown",
   "id": "a82d4d1c-4cfb-4dec-a463-a4081da1f438",
   "metadata": {},
   "source": [
    "# E-Commerce Article Creation Report Clothes  <br />  <br />   Case 1 :<br />  <br />    Exact Codes"
   ]
  },
  {
   "cell_type": "markdown",
   "id": "fe8e8b88-4c90-4c16-8a7b-f1e5aa7735ce",
   "metadata": {},
   "source": [
    "#### Table of Content"
   ]
  },
  {
   "cell_type": "markdown",
   "id": "9e6838c5-ae25-4761-be24-e3e03df81072",
   "metadata": {},
   "source": [
    "- -  Introduction\n",
    "- 1) Fetch Articles Pictures\n",
    "- 2) Link Pictures According to Current Stock Articles"
   ]
  },
  {
   "cell_type": "markdown",
   "id": "63fe9b5e-8449-4b3b-80f9-f920d286ba93",
   "metadata": {},
   "source": [
    "## Abstract "
   ]
  },
  {
   "cell_type": "markdown",
   "id": "b43512c5-ca66-4a84-a9fc-48646e98dad7",
   "metadata": {},
   "source": [
    "The project regards a real case scenario of a small business (independent clothing store) in a phase of digital transfomration which cannot assume the responsability of products pictures, neither of one by one product import, as the products are seasonly made.\n",
    "\n",
    "Here, a solution is proposed to download the products pictures and link the current stock Datas to their respective pictures link, in the goal of creating a .CSV file ready to be imported as WooCommerce Products. "
   ]
  },
  {
   "cell_type": "markdown",
   "id": "6cabb255-5dd6-4544-9223-b90e7c6a8879",
   "metadata": {
    "tags": []
   },
   "source": [
    "### 1) FETCH ARTICLES PICTURES "
   ]
  },
  {
   "cell_type": "code",
   "execution_count": 50,
   "id": "8bed2607-6040-4dc3-9ca3-06e251a36db3",
   "metadata": {},
   "outputs": [],
   "source": [
    "import pandas as pd \n",
    "import requests\n",
    "import time"
   ]
  },
  {
   "cell_type": "markdown",
   "id": "b4fad639-36c3-4685-bd2d-3a995820bc08",
   "metadata": {},
   "source": [
    "#### Excel File Input"
   ]
  },
  {
   "cell_type": "code",
   "execution_count": 45,
   "id": "b21ac5fb-76be-4c97-9a4c-22c710bff264",
   "metadata": {},
   "outputs": [],
   "source": [
    "excel_file = \"Twin_Set_P23_Stock.xls\""
   ]
  },
  {
   "cell_type": "markdown",
   "id": "dbdf55ab-7e38-4d24-9495-114c6486d24b",
   "metadata": {},
   "source": [
    "#### Data Frame From Stock Table"
   ]
  },
  {
   "cell_type": "code",
   "execution_count": 46,
   "id": "a6db7016-59ee-4ce4-b3f4-2891d3690938",
   "metadata": {
    "tags": []
   },
   "outputs": [],
   "source": [
    "df = pd.read_excel(excel_file)"
   ]
  },
  {
   "cell_type": "code",
   "execution_count": 47,
   "id": "39aa6f4a-df06-41b1-a908-75267c6e3be1",
   "metadata": {
    "tags": []
   },
   "outputs": [
    {
     "data": {
      "text/html": [
       "<div>\n",
       "<style scoped>\n",
       "    .dataframe tbody tr th:only-of-type {\n",
       "        vertical-align: middle;\n",
       "    }\n",
       "\n",
       "    .dataframe tbody tr th {\n",
       "        vertical-align: top;\n",
       "    }\n",
       "\n",
       "    .dataframe thead th {\n",
       "        text-align: right;\n",
       "    }\n",
       "</style>\n",
       "<table border=\"1\" class=\"dataframe\">\n",
       "  <thead>\n",
       "    <tr style=\"text-align: right;\">\n",
       "      <th></th>\n",
       "      <th>Ordinato  per ModelloVariante</th>\n",
       "      <th>Unnamed: 1</th>\n",
       "      <th>Unnamed: 2</th>\n",
       "      <th>Unnamed: 3</th>\n",
       "      <th>Unnamed: 4</th>\n",
       "      <th>lunedì 17 aprile 2023</th>\n",
       "      <th>Unnamed: 6</th>\n",
       "    </tr>\n",
       "  </thead>\n",
       "  <tbody>\n",
       "    <tr>\n",
       "      <th>0</th>\n",
       "      <td>Dal</td>\n",
       "      <td>\\n01/01/1998</td>\n",
       "      <td>Azienda</td>\n",
       "      <td>\\nPOPAZZ SRLS</td>\n",
       "      <td>Brand</td>\n",
       "      <td>\\nTwin Set</td>\n",
       "      <td>NaN</td>\n",
       "    </tr>\n",
       "    <tr>\n",
       "      <th>1</th>\n",
       "      <td>Al</td>\n",
       "      <td>\\n31/12/2098</td>\n",
       "      <td>Stagione</td>\n",
       "      <td>\\nP23-Pimavera Estate 2023</td>\n",
       "      <td>Fornitore</td>\n",
       "      <td>\\nTwin Set SPA</td>\n",
       "      <td>NaN</td>\n",
       "    </tr>\n",
       "    <tr>\n",
       "      <th>2</th>\n",
       "      <td>NaN</td>\n",
       "      <td>NaN</td>\n",
       "      <td>NaN</td>\n",
       "      <td>NaN</td>\n",
       "      <td>NaN</td>\n",
       "      <td>NaN</td>\n",
       "      <td>NaN</td>\n",
       "    </tr>\n",
       "    <tr>\n",
       "      <th>3</th>\n",
       "      <td>ModelloVariante</td>\n",
       "      <td>Ordinato _Q</td>\n",
       "      <td>Riassortito _Q</td>\n",
       "      <td>Totale _Q</td>\n",
       "      <td>Ordinato _P</td>\n",
       "      <td>Riassortito _P</td>\n",
       "      <td>Totale _P</td>\n",
       "    </tr>\n",
       "    <tr>\n",
       "      <th>4</th>\n",
       "      <td>231AP202210334</td>\n",
       "      <td>5</td>\n",
       "      <td>0</td>\n",
       "      <td>5</td>\n",
       "      <td>232.5</td>\n",
       "      <td>0</td>\n",
       "      <td>232.5</td>\n",
       "    </tr>\n",
       "  </tbody>\n",
       "</table>\n",
       "</div>"
      ],
      "text/plain": [
       "  Ordinato  per ModelloVariante    Unnamed: 1       Unnamed: 2  \\\n",
       "0                           Dal  \\n01/01/1998          Azienda   \n",
       "1                            Al  \\n31/12/2098         Stagione   \n",
       "2                           NaN           NaN              NaN   \n",
       "3               ModelloVariante   Ordinato _Q   Riassortito _Q   \n",
       "4                231AP202210334             5                0   \n",
       "\n",
       "                   Unnamed: 3   Unnamed: 4 lunedì 17 aprile 2023  Unnamed: 6  \n",
       "0               \\nPOPAZZ SRLS        Brand            \\nTwin Set         NaN  \n",
       "1  \\nP23-Pimavera Estate 2023    Fornitore        \\nTwin Set SPA         NaN  \n",
       "2                         NaN          NaN                   NaN         NaN  \n",
       "3                   Totale _Q  Ordinato _P        Riassortito _P   Totale _P  \n",
       "4                           5        232.5                     0       232.5  "
      ]
     },
     "execution_count": 47,
     "metadata": {},
     "output_type": "execute_result"
    }
   ],
   "source": [
    "df.head(5)"
   ]
  },
  {
   "cell_type": "markdown",
   "id": "6bef9e3d-e8c0-4ae6-85d8-5f19ea2b7b92",
   "metadata": {},
   "source": [
    "#### Clear unused informations"
   ]
  },
  {
   "cell_type": "code",
   "execution_count": 48,
   "id": "a13509c7-36a5-40bb-956c-a15243cf8d81",
   "metadata": {
    "tags": []
   },
   "outputs": [
    {
     "data": {
      "text/html": [
       "<div>\n",
       "<style scoped>\n",
       "    .dataframe tbody tr th:only-of-type {\n",
       "        vertical-align: middle;\n",
       "    }\n",
       "\n",
       "    .dataframe tbody tr th {\n",
       "        vertical-align: top;\n",
       "    }\n",
       "\n",
       "    .dataframe thead th {\n",
       "        text-align: right;\n",
       "    }\n",
       "</style>\n",
       "<table border=\"1\" class=\"dataframe\">\n",
       "  <thead>\n",
       "    <tr style=\"text-align: right;\">\n",
       "      <th></th>\n",
       "      <th>ModelloVariante</th>\n",
       "    </tr>\n",
       "  </thead>\n",
       "  <tbody>\n",
       "    <tr>\n",
       "      <th>4</th>\n",
       "      <td>231AP202210334</td>\n",
       "    </tr>\n",
       "    <tr>\n",
       "      <th>5</th>\n",
       "      <td>231AP203010335</td>\n",
       "    </tr>\n",
       "    <tr>\n",
       "      <th>6</th>\n",
       "      <td>231AP203410335</td>\n",
       "    </tr>\n",
       "    <tr>\n",
       "      <th>7</th>\n",
       "      <td>231AP207100006</td>\n",
       "    </tr>\n",
       "    <tr>\n",
       "      <th>8</th>\n",
       "      <td>231AP207100522</td>\n",
       "    </tr>\n",
       "  </tbody>\n",
       "</table>\n",
       "</div>"
      ],
      "text/plain": [
       "  ModelloVariante\n",
       "4  231AP202210334\n",
       "5  231AP203010335\n",
       "6  231AP203410335\n",
       "7  231AP207100006\n",
       "8  231AP207100522"
      ]
     },
     "execution_count": 48,
     "metadata": {},
     "output_type": "execute_result"
    }
   ],
   "source": [
    "df.drop([0, 1,2,3,42,139],inplace=True)\n",
    "df.drop(columns=['Unnamed: 1', 'Unnamed: 2', 'Unnamed: 2', 'Unnamed: 3', 'Unnamed: 4', 'lunedì 17 aprile 2023', 'Unnamed: 6'],inplace=True)\n",
    "df = df.dropna()\n",
    "df = df.rename(columns={\"Ordinato  per ModelloVariante\": \"ModelloVariante\"})\n",
    "df.head(5)\n"
   ]
  },
  {
   "cell_type": "markdown",
   "id": "ceb60284-6943-4bd6-b5ff-afd971d993f6",
   "metadata": {},
   "source": [
    "#### List of Articles ID Codes"
   ]
  },
  {
   "cell_type": "code",
   "execution_count": 17,
   "id": "ed7c0659-9f29-4260-9f8f-fcfd8d853463",
   "metadata": {
    "tags": []
   },
   "outputs": [
    {
     "data": {
      "text/plain": [
       "['231AP202210334',\n",
       " '231AP203010335',\n",
       " '231AP203410335',\n",
       " '231AP207100006',\n",
       " '231AP207100522']"
      ]
     },
     "execution_count": 17,
     "metadata": {},
     "output_type": "execute_result"
    }
   ],
   "source": [
    "cod_list = df[\"ModelloVariante\"].to_list()\n",
    "cod_list[:5]"
   ]
  },
  {
   "cell_type": "markdown",
   "id": "add8c08f-cb52-4432-82be-1d8c7706e466",
   "metadata": {},
   "source": [
    "#### Indexing for photos in URL"
   ]
  },
  {
   "cell_type": "code",
   "execution_count": 18,
   "id": "953b7870-860e-43b2-9451-733c53dca7b7",
   "metadata": {},
   "outputs": [],
   "source": [
    "x_list  = [1,2,3,4,5]"
   ]
  },
  {
   "cell_type": "markdown",
   "id": "4eb6865c-8d22-40ff-8364-5ca3dee3bd47",
   "metadata": {},
   "source": [
    "#### Photos Url Creation by Article "
   ]
  },
  {
   "cell_type": "code",
   "execution_count": 19,
   "id": "5568692c-b283-4d83-b80c-44e615ef180c",
   "metadata": {},
   "outputs": [],
   "source": [
    "url_list = []\n",
    "def find_links_fotos (full_cod):\n",
    "    cod_articolo = full_cod[:-5]\n",
    "    cod_colore = full_cod[-5:]\n",
    "    for x in x_list:\n",
    "        url_list.append(\"https://twinset-cdn.thron.com/delivery/public/image/twinset/\"+cod_articolo+\"-\"+cod_colore+\"-\"+\"0\"+str(x)+\"/6ujb0j/std/980x1198/\"+cod_articolo+\"-\"+cod_colore+\"-0S?quality=auto-high&format=auto\")        "
   ]
  },
  {
   "cell_type": "markdown",
   "id": "86dd8188-c092-457a-a37d-90d3f7f76c13",
   "metadata": {},
   "source": [
    "#### Automation through the codes to create URL List (url_list)"
   ]
  },
  {
   "cell_type": "code",
   "execution_count": 20,
   "id": "a3eaa3a3-d577-49fe-a3d5-128b22361c3b",
   "metadata": {},
   "outputs": [],
   "source": [
    "def all_urls(cod_list):\n",
    "    for cods in cod_list:\n",
    "        find_links_fotos(cods)"
   ]
  },
  {
   "cell_type": "markdown",
   "id": "5cb5d4ab-4807-407f-b3f9-e02ae9bdf18f",
   "metadata": {},
   "source": [
    "#### Launch Function"
   ]
  },
  {
   "cell_type": "code",
   "execution_count": 21,
   "id": "bb595c4a-e6a1-4a08-bb15-2053ccc97878",
   "metadata": {
    "tags": []
   },
   "outputs": [
    {
     "data": {
      "text/plain": [
       "['https://twinset-cdn.thron.com/delivery/public/image/twinset/231AP2022-10334-01/6ujb0j/std/980x1198/231AP2022-10334-0S?quality=auto-high&format=auto',\n",
       " 'https://twinset-cdn.thron.com/delivery/public/image/twinset/231AP2022-10334-02/6ujb0j/std/980x1198/231AP2022-10334-0S?quality=auto-high&format=auto',\n",
       " 'https://twinset-cdn.thron.com/delivery/public/image/twinset/231AP2022-10334-03/6ujb0j/std/980x1198/231AP2022-10334-0S?quality=auto-high&format=auto',\n",
       " 'https://twinset-cdn.thron.com/delivery/public/image/twinset/231AP2022-10334-04/6ujb0j/std/980x1198/231AP2022-10334-0S?quality=auto-high&format=auto',\n",
       " 'https://twinset-cdn.thron.com/delivery/public/image/twinset/231AP2022-10334-05/6ujb0j/std/980x1198/231AP2022-10334-0S?quality=auto-high&format=auto']"
      ]
     },
     "execution_count": 21,
     "metadata": {},
     "output_type": "execute_result"
    }
   ],
   "source": [
    "all_urls(cod_list)\n",
    "url_list[:5]\n"
   ]
  },
  {
   "cell_type": "markdown",
   "id": "8caaa9ac-8d5f-4380-831a-2a4fe4700f6e",
   "metadata": {
    "tags": []
   },
   "source": [
    "#### Download Photo from URL"
   ]
  },
  {
   "cell_type": "code",
   "execution_count": 22,
   "id": "fc8a2d38-61af-4afa-b343-cb0c0ba292b7",
   "metadata": {
    "tags": []
   },
   "outputs": [],
   "source": [
    "for url in url_list:\n",
    "    time.sleep(1) #Let's be Polite\n",
    "    response = requests.get(url)\n",
    "    test_url = url[60:-69].replace(\"-\",\"\")\n",
    "    with open(str(test_url[:-2] + \"(\" +test_url[14:]+ \")\")+\".jpg\", \"wb\") as f:\n",
    "        f.write(response.content)    "
   ]
  },
  {
   "cell_type": "markdown",
   "id": "ec6945ff-e0a7-44ae-8ba1-37fea4270d95",
   "metadata": {},
   "source": [
    "####  EXTERNAL ACTIONS REQUIERED\n",
    "\n",
    "#### Delete downloaded Pictures with file size equal or less than 1 KB, from your own download file\n",
    "\n",
    "#### Upload the pictures to your website and copy the first part (excluding file's name) of the uploaded picture's link.\n"
   ]
  },
  {
   "cell_type": "markdown",
   "id": "12093f63-575f-446c-ba77-cb02d21af130",
   "metadata": {
    "tags": []
   },
   "source": [
    "### 2) LINK PICTURES ACCORDING TO CURRENT STOCK ARTICLES"
   ]
  },
  {
   "cell_type": "markdown",
   "id": "fbdfc0a6-5f61-44bb-ac6c-7311929d1d79",
   "metadata": {},
   "source": [
    "#### Find pictures names and strip file name formatting"
   ]
  },
  {
   "cell_type": "code",
   "execution_count": 23,
   "id": "227fc575-69f1-4c3b-97b2-9d98a89f3deb",
   "metadata": {
    "tags": []
   },
   "outputs": [],
   "source": [
    "pd.set_option('display.max_columns', None)\n",
    "pd.set_option(\"max_colwidth\", None)\n",
    "import glob\n",
    "list_fotos = glob.glob(\"C:/Users/Nicol/Ranch Nicolas/Twin Set/Fotos Twin Set/*\")\n",
    "list_fotos = [elem.replace(\"C:/Users/Nicol/Ranch Nicolas/Twin Set/Fotos Twin Set\\\\\", '') for elem in list_fotos]\n",
    "list_fotos_per_link_1st = [elem.replace(\"(\", '') for elem in list_fotos]\n",
    "list_fotos_per_link_2nd = [elem.replace(\")\", '') for elem in list_fotos_per_link_1st]\n",
    "list_fotos_per_link = [elem.replace(\".jpg\", '') for elem in list_fotos_per_link_2nd]"
   ]
  },
  {
   "cell_type": "markdown",
   "id": "a8531173-3ee7-4b2c-ac2f-9d64b7ef510d",
   "metadata": {},
   "source": [
    "#### List of articles names to create links"
   ]
  },
  {
   "cell_type": "code",
   "execution_count": 24,
   "id": "7bf50a57-00a7-48a8-a259-05073d5e2c73",
   "metadata": {
    "tags": []
   },
   "outputs": [
    {
     "data": {
      "text/plain": [
       "['231AP20221033401',\n",
       " '231AP20221033402',\n",
       " '231AP20221033403',\n",
       " '231AP20221033404',\n",
       " '231AP20221033405']"
      ]
     },
     "execution_count": 24,
     "metadata": {},
     "output_type": "execute_result"
    }
   ],
   "source": [
    "list_fotos_per_link[:5]"
   ]
  },
  {
   "cell_type": "markdown",
   "id": "a537d399-8b3b-48e6-9808-14cc39d741f6",
   "metadata": {},
   "source": [
    "#### List of article codes to link to current stock Datas"
   ]
  },
  {
   "cell_type": "code",
   "execution_count": 25,
   "id": "5ddcf9e5-ef13-405c-a158-466d226ffba0",
   "metadata": {},
   "outputs": [],
   "source": [
    "list_cod_art = [elem[:-8] for elem in list_fotos]"
   ]
  },
  {
   "cell_type": "markdown",
   "id": "91abdf20-58b5-458a-a9d3-af9b4369f0a3",
   "metadata": {},
   "source": [
    "#### List of article codes to link to current stock Datas Without Duplicates"
   ]
  },
  {
   "cell_type": "code",
   "execution_count": 26,
   "id": "c233ab5b-a054-42e8-a029-6813913f62cf",
   "metadata": {},
   "outputs": [],
   "source": [
    "list_cod_art = list(set(list_cod_art))"
   ]
  },
  {
   "cell_type": "code",
   "execution_count": 27,
   "id": "b3a94a0a-be03-443c-af0b-db63511f226a",
   "metadata": {
    "tags": []
   },
   "outputs": [
    {
     "data": {
      "text/plain": [
       "['231AP242306811',\n",
       " '231AP248600840',\n",
       " '231TP274610397',\n",
       " '231AP207200006',\n",
       " '231TT245410673']"
      ]
     },
     "execution_count": 27,
     "metadata": {},
     "output_type": "execute_result"
    }
   ],
   "source": [
    "list_cod_art[:5]"
   ]
  },
  {
   "cell_type": "markdown",
   "id": "7596768d-aa1a-49ec-9e87-52cbb8ce7688",
   "metadata": {},
   "source": [
    "#### Link formatting"
   ]
  },
  {
   "cell_type": "code",
   "execution_count": 28,
   "id": "395d9e25-12b8-479f-a14a-295bdea5fd27",
   "metadata": {
    "tags": []
   },
   "outputs": [
    {
     "data": {
      "text/plain": [
       "['https://manaoclub.it/manao_content/uploads/2023/04/231AP20221033401.jpg',\n",
       " 'https://manaoclub.it/manao_content/uploads/2023/04/231AP20221033402.jpg',\n",
       " 'https://manaoclub.it/manao_content/uploads/2023/04/231AP20221033403.jpg',\n",
       " 'https://manaoclub.it/manao_content/uploads/2023/04/231AP20221033404.jpg',\n",
       " 'https://manaoclub.it/manao_content/uploads/2023/04/231AP20221033405.jpg']"
      ]
     },
     "execution_count": 28,
     "metadata": {},
     "output_type": "execute_result"
    }
   ],
   "source": [
    "list_fotos_per_link_true = [\"https://manaoclub.it/manao_content/uploads/2023/04/\"+ elems for elems in list_fotos_per_link]\n",
    "list_fotos_per_link_true_vera = [elements+\".jpg\" for elements in list_fotos_per_link_true]\n",
    "list_fotos_per_link_true_vera[:5]"
   ]
  },
  {
   "cell_type": "markdown",
   "id": "dee4f274-38f5-499f-9c89-3806798a7b2d",
   "metadata": {},
   "source": [
    "#### Create a Dataframe containing the articles code adjacent to their respective pictures links"
   ]
  },
  {
   "cell_type": "code",
   "execution_count": 29,
   "id": "69375e55-e241-477e-9256-cbfa9bf07cdd",
   "metadata": {
    "tags": []
   },
   "outputs": [],
   "source": [
    "df = pd.DataFrame()\n",
    "\n",
    "list_1 = []\n",
    "\n",
    "list_2 = []\n",
    "\n",
    "for cods in list_cod_art:\n",
    "    for links in list_fotos_per_link_true_vera:\n",
    "        if cods in links:\n",
    "            list_1.append(cods)\n",
    "            list_2.append(links)\n",
    "            \n",
    "df[\"ModelloVariante\"] = list_1\n",
    "df[\"Link Foto\"] = list_2"
   ]
  },
  {
   "cell_type": "code",
   "execution_count": 30,
   "id": "bfa8e96e-4d1b-4444-bce1-a46072416ebb",
   "metadata": {
    "tags": []
   },
   "outputs": [
    {
     "data": {
      "text/html": [
       "<div>\n",
       "<style scoped>\n",
       "    .dataframe tbody tr th:only-of-type {\n",
       "        vertical-align: middle;\n",
       "    }\n",
       "\n",
       "    .dataframe tbody tr th {\n",
       "        vertical-align: top;\n",
       "    }\n",
       "\n",
       "    .dataframe thead th {\n",
       "        text-align: right;\n",
       "    }\n",
       "</style>\n",
       "<table border=\"1\" class=\"dataframe\">\n",
       "  <thead>\n",
       "    <tr style=\"text-align: right;\">\n",
       "      <th></th>\n",
       "      <th>ModelloVariante</th>\n",
       "      <th>Link Foto</th>\n",
       "    </tr>\n",
       "  </thead>\n",
       "  <tbody>\n",
       "    <tr>\n",
       "      <th>0</th>\n",
       "      <td>231AP242306811</td>\n",
       "      <td>https://manaoclub.it/manao_content/uploads/2023/04/231AP24230681101.jpg</td>\n",
       "    </tr>\n",
       "    <tr>\n",
       "      <th>1</th>\n",
       "      <td>231AP242306811</td>\n",
       "      <td>https://manaoclub.it/manao_content/uploads/2023/04/231AP24230681102.jpg</td>\n",
       "    </tr>\n",
       "    <tr>\n",
       "      <th>2</th>\n",
       "      <td>231AP242306811</td>\n",
       "      <td>https://manaoclub.it/manao_content/uploads/2023/04/231AP24230681103.jpg</td>\n",
       "    </tr>\n",
       "    <tr>\n",
       "      <th>3</th>\n",
       "      <td>231AP242306811</td>\n",
       "      <td>https://manaoclub.it/manao_content/uploads/2023/04/231AP24230681104.jpg</td>\n",
       "    </tr>\n",
       "    <tr>\n",
       "      <th>4</th>\n",
       "      <td>231AP242306811</td>\n",
       "      <td>https://manaoclub.it/manao_content/uploads/2023/04/231AP24230681105.jpg</td>\n",
       "    </tr>\n",
       "  </tbody>\n",
       "</table>\n",
       "</div>"
      ],
      "text/plain": [
       "  ModelloVariante  \\\n",
       "0  231AP242306811   \n",
       "1  231AP242306811   \n",
       "2  231AP242306811   \n",
       "3  231AP242306811   \n",
       "4  231AP242306811   \n",
       "\n",
       "                                                                 Link Foto  \n",
       "0  https://manaoclub.it/manao_content/uploads/2023/04/231AP24230681101.jpg  \n",
       "1  https://manaoclub.it/manao_content/uploads/2023/04/231AP24230681102.jpg  \n",
       "2  https://manaoclub.it/manao_content/uploads/2023/04/231AP24230681103.jpg  \n",
       "3  https://manaoclub.it/manao_content/uploads/2023/04/231AP24230681104.jpg  \n",
       "4  https://manaoclub.it/manao_content/uploads/2023/04/231AP24230681105.jpg  "
      ]
     },
     "execution_count": 30,
     "metadata": {},
     "output_type": "execute_result"
    }
   ],
   "source": [
    "df.head(5)"
   ]
  },
  {
   "cell_type": "markdown",
   "id": "8d552450-505f-47a3-83d9-274595a8ef56",
   "metadata": {},
   "source": [
    "#### Data frame with no duplicates ; Makes the links separeted by a comma (Useful for \"WP All Import\")"
   ]
  },
  {
   "cell_type": "code",
   "execution_count": 31,
   "id": "4f6c04e4-f7fb-4b58-a219-4ee5fd74bbb2",
   "metadata": {
    "tags": []
   },
   "outputs": [
    {
     "data": {
      "text/html": [
       "<div>\n",
       "<style scoped>\n",
       "    .dataframe tbody tr th:only-of-type {\n",
       "        vertical-align: middle;\n",
       "    }\n",
       "\n",
       "    .dataframe tbody tr th {\n",
       "        vertical-align: top;\n",
       "    }\n",
       "\n",
       "    .dataframe thead th {\n",
       "        text-align: right;\n",
       "    }\n",
       "</style>\n",
       "<table border=\"1\" class=\"dataframe\">\n",
       "  <thead>\n",
       "    <tr style=\"text-align: right;\">\n",
       "      <th></th>\n",
       "      <th>ModelloVariante</th>\n",
       "      <th>Link Foto</th>\n",
       "    </tr>\n",
       "  </thead>\n",
       "  <tbody>\n",
       "    <tr>\n",
       "      <th>0</th>\n",
       "      <td>231AP202210334</td>\n",
       "      <td>https://manaoclub.it/manao_content/uploads/2023/04/231AP20221033401.jpg,https://manaoclub.it/manao_content/uploads/2023/04/231AP20221033402.jpg,https://manaoclub.it/manao_content/uploads/2023/04/231AP20221033403.jpg,https://manaoclub.it/manao_content/uploads/2023/04/231AP20221033404.jpg,https://manaoclub.it/manao_content/uploads/2023/04/231AP20221033405.jpg</td>\n",
       "    </tr>\n",
       "    <tr>\n",
       "      <th>1</th>\n",
       "      <td>231AP203010335</td>\n",
       "      <td>https://manaoclub.it/manao_content/uploads/2023/04/231AP20301033501.jpg,https://manaoclub.it/manao_content/uploads/2023/04/231AP20301033502.jpg,https://manaoclub.it/manao_content/uploads/2023/04/231AP20301033503.jpg,https://manaoclub.it/manao_content/uploads/2023/04/231AP20301033504.jpg,https://manaoclub.it/manao_content/uploads/2023/04/231AP20301033505.jpg</td>\n",
       "    </tr>\n",
       "    <tr>\n",
       "      <th>2</th>\n",
       "      <td>231AP203410335</td>\n",
       "      <td>https://manaoclub.it/manao_content/uploads/2023/04/231AP20341033501.jpg,https://manaoclub.it/manao_content/uploads/2023/04/231AP20341033502.jpg,https://manaoclub.it/manao_content/uploads/2023/04/231AP20341033503.jpg,https://manaoclub.it/manao_content/uploads/2023/04/231AP20341033504.jpg,https://manaoclub.it/manao_content/uploads/2023/04/231AP20341033505.jpg</td>\n",
       "    </tr>\n",
       "    <tr>\n",
       "      <th>3</th>\n",
       "      <td>231AP207100006</td>\n",
       "      <td>https://manaoclub.it/manao_content/uploads/2023/04/231AP20710000601.jpg,https://manaoclub.it/manao_content/uploads/2023/04/231AP20710000602.jpg,https://manaoclub.it/manao_content/uploads/2023/04/231AP20710000603.jpg,https://manaoclub.it/manao_content/uploads/2023/04/231AP20710000604.jpg,https://manaoclub.it/manao_content/uploads/2023/04/231AP20710000605.jpg</td>\n",
       "    </tr>\n",
       "    <tr>\n",
       "      <th>4</th>\n",
       "      <td>231AP207100522</td>\n",
       "      <td>https://manaoclub.it/manao_content/uploads/2023/04/231AP20710052201.jpg,https://manaoclub.it/manao_content/uploads/2023/04/231AP20710052202.jpg,https://manaoclub.it/manao_content/uploads/2023/04/231AP20710052203.jpg,https://manaoclub.it/manao_content/uploads/2023/04/231AP20710052204.jpg,https://manaoclub.it/manao_content/uploads/2023/04/231AP20710052205.jpg</td>\n",
       "    </tr>\n",
       "  </tbody>\n",
       "</table>\n",
       "</div>"
      ],
      "text/plain": [
       "  ModelloVariante  \\\n",
       "0  231AP202210334   \n",
       "1  231AP203010335   \n",
       "2  231AP203410335   \n",
       "3  231AP207100006   \n",
       "4  231AP207100522   \n",
       "\n",
       "                                                                                                                                                                                                                                                                                                                                                                 Link Foto  \n",
       "0  https://manaoclub.it/manao_content/uploads/2023/04/231AP20221033401.jpg,https://manaoclub.it/manao_content/uploads/2023/04/231AP20221033402.jpg,https://manaoclub.it/manao_content/uploads/2023/04/231AP20221033403.jpg,https://manaoclub.it/manao_content/uploads/2023/04/231AP20221033404.jpg,https://manaoclub.it/manao_content/uploads/2023/04/231AP20221033405.jpg  \n",
       "1  https://manaoclub.it/manao_content/uploads/2023/04/231AP20301033501.jpg,https://manaoclub.it/manao_content/uploads/2023/04/231AP20301033502.jpg,https://manaoclub.it/manao_content/uploads/2023/04/231AP20301033503.jpg,https://manaoclub.it/manao_content/uploads/2023/04/231AP20301033504.jpg,https://manaoclub.it/manao_content/uploads/2023/04/231AP20301033505.jpg  \n",
       "2  https://manaoclub.it/manao_content/uploads/2023/04/231AP20341033501.jpg,https://manaoclub.it/manao_content/uploads/2023/04/231AP20341033502.jpg,https://manaoclub.it/manao_content/uploads/2023/04/231AP20341033503.jpg,https://manaoclub.it/manao_content/uploads/2023/04/231AP20341033504.jpg,https://manaoclub.it/manao_content/uploads/2023/04/231AP20341033505.jpg  \n",
       "3  https://manaoclub.it/manao_content/uploads/2023/04/231AP20710000601.jpg,https://manaoclub.it/manao_content/uploads/2023/04/231AP20710000602.jpg,https://manaoclub.it/manao_content/uploads/2023/04/231AP20710000603.jpg,https://manaoclub.it/manao_content/uploads/2023/04/231AP20710000604.jpg,https://manaoclub.it/manao_content/uploads/2023/04/231AP20710000605.jpg  \n",
       "4  https://manaoclub.it/manao_content/uploads/2023/04/231AP20710052201.jpg,https://manaoclub.it/manao_content/uploads/2023/04/231AP20710052202.jpg,https://manaoclub.it/manao_content/uploads/2023/04/231AP20710052203.jpg,https://manaoclub.it/manao_content/uploads/2023/04/231AP20710052204.jpg,https://manaoclub.it/manao_content/uploads/2023/04/231AP20710052205.jpg  "
      ]
     },
     "execution_count": 31,
     "metadata": {},
     "output_type": "execute_result"
    }
   ],
   "source": [
    "df_right = df.groupby('ModelloVariante')['Link Foto'].apply(','.join).reset_index()\n",
    "df_right.head(5)"
   ]
  },
  {
   "cell_type": "markdown",
   "id": "59535d9c-a49b-4ffd-b5d2-c614302fdd10",
   "metadata": {},
   "source": [
    "#### Actual article stock data"
   ]
  },
  {
   "cell_type": "code",
   "execution_count": 32,
   "id": "8b3ca953-134d-4b93-99cf-fda107136a79",
   "metadata": {},
   "outputs": [],
   "source": [
    "df_atelier = pd.read_excel(\"Twin_Set_DATAs.xls\")"
   ]
  },
  {
   "cell_type": "markdown",
   "id": "5dfef5bf-09f2-4bb1-b830-7763e1897f58",
   "metadata": {},
   "source": [
    "#### Redefine Right Columns headers"
   ]
  },
  {
   "cell_type": "code",
   "execution_count": 34,
   "id": "afd8b473-cad0-4e92-8d52-d803f8a427e0",
   "metadata": {},
   "outputs": [],
   "source": [
    "df_atelier.columns = df_atelier.iloc[3]"
   ]
  },
  {
   "cell_type": "markdown",
   "id": "5b3d6675-1c11-4149-9c6b-50d883e40b2f",
   "metadata": {},
   "source": [
    "#### Get rid of Meta Data"
   ]
  },
  {
   "cell_type": "code",
   "execution_count": 35,
   "id": "403d735a-5379-41ad-86f4-6554733a6ee6",
   "metadata": {},
   "outputs": [],
   "source": [
    "df_atelier = df_atelier[4:]"
   ]
  },
  {
   "cell_type": "markdown",
   "id": "08c3a2cb-3637-4a4f-8e63-5dacc4d8bedd",
   "metadata": {},
   "source": [
    "#### Add Link Foto columns to the stock data"
   ]
  },
  {
   "cell_type": "code",
   "execution_count": 37,
   "id": "43a71d6c-f25c-4c53-8099-20995608e766",
   "metadata": {
    "collapsed": true,
    "jupyter": {
     "outputs_hidden": true
    },
    "tags": []
   },
   "outputs": [
    {
     "name": "stderr",
     "output_type": "stream",
     "text": [
      "C:\\Users\\Nicol\\AppData\\Local\\Temp\\ipykernel_17848\\2003139546.py:1: SettingWithCopyWarning: \n",
      "A value is trying to be set on a copy of a slice from a DataFrame.\n",
      "Try using .loc[row_indexer,col_indexer] = value instead\n",
      "\n",
      "See the caveats in the documentation: https://pandas.pydata.org/pandas-docs/stable/user_guide/indexing.html#returning-a-view-versus-a-copy\n",
      "  df_atelier['Link Foto'] = df_atelier.ModelloVariante.map(df_right.set_index('ModelloVariante')['Link Foto'])\n"
     ]
    }
   ],
   "source": [
    "df_atelier['Link Foto'] = df_atelier.ModelloVariante.map(df_right.set_index('ModelloVariante')['Link Foto'])"
   ]
  },
  {
   "cell_type": "markdown",
   "id": "2c51c931-54b3-4c4e-9ce0-6ee9113325e3",
   "metadata": {},
   "source": [
    "#### Add drop empty rows"
   ]
  },
  {
   "cell_type": "code",
   "execution_count": 38,
   "id": "653383b0-d7a1-4740-8b99-2b5aa70d4f5c",
   "metadata": {},
   "outputs": [],
   "source": [
    "df_atelier = df_atelier[df_atelier['Link Foto'].notna()]"
   ]
  },
  {
   "cell_type": "markdown",
   "id": "570413dd-7dda-45f7-842a-fc51a33d76b7",
   "metadata": {},
   "source": [
    "#### Drop useless columns"
   ]
  },
  {
   "cell_type": "code",
   "execution_count": 39,
   "id": "b145d959-da4d-425e-a89a-8a52968de96f",
   "metadata": {},
   "outputs": [],
   "source": [
    "df_atelier = df_atelier.drop(columns=['Ordinato _Q', ' Riassortito _Q', 'Ordinato _P', ' Riassortito _P', ' Totale _P'])"
   ]
  },
  {
   "cell_type": "markdown",
   "id": "8a58ba1d-93c4-4e3c-869f-31022c04ca47",
   "metadata": {},
   "source": [
    "#### Adjust Data Set readability"
   ]
  },
  {
   "cell_type": "code",
   "execution_count": 42,
   "id": "68a6cc93-1c46-4b5d-a698-7c923368537e",
   "metadata": {},
   "outputs": [],
   "source": [
    "df_atelier = df_atelier.rename(columns={\" Totale _Q\": \"Quantity\"})"
   ]
  },
  {
   "cell_type": "markdown",
   "id": "627497f7-632d-4696-88fa-3ae327337038",
   "metadata": {},
   "source": [
    "#### Create arbitrary Article Title "
   ]
  },
  {
   "cell_type": "code",
   "execution_count": 43,
   "id": "3759aae9-0310-4c79-b2f8-ba47eaedc4d6",
   "metadata": {
    "tags": []
   },
   "outputs": [
    {
     "data": {
      "text/html": [
       "<div>\n",
       "<style scoped>\n",
       "    .dataframe tbody tr th:only-of-type {\n",
       "        vertical-align: middle;\n",
       "    }\n",
       "\n",
       "    .dataframe tbody tr th {\n",
       "        vertical-align: top;\n",
       "    }\n",
       "\n",
       "    .dataframe thead th {\n",
       "        text-align: right;\n",
       "    }\n",
       "</style>\n",
       "<table border=\"1\" class=\"dataframe\">\n",
       "  <thead>\n",
       "    <tr style=\"text-align: right;\">\n",
       "      <th>3</th>\n",
       "      <th>ModelloVariante</th>\n",
       "      <th>Taglia</th>\n",
       "      <th>Sigla Stagione</th>\n",
       "      <th>Brand</th>\n",
       "      <th>Gruppo</th>\n",
       "      <th>Settore</th>\n",
       "      <th>Descrizione Modello</th>\n",
       "      <th>Motivo</th>\n",
       "      <th>Tessuto</th>\n",
       "      <th>Colore</th>\n",
       "      <th>Categoria</th>\n",
       "      <th>Prezzo Acquisto</th>\n",
       "      <th>Prezzo Vendita</th>\n",
       "      <th>Cifrato</th>\n",
       "      <th>Su sito descr. dettagliata</th>\n",
       "      <th>Size &amp; Fit</th>\n",
       "      <th>Made In</th>\n",
       "      <th>Composizione</th>\n",
       "      <th>Codice Doganale</th>\n",
       "      <th>Quantity</th>\n",
       "      <th>Link Foto</th>\n",
       "      <th>Name</th>\n",
       "    </tr>\n",
       "  </thead>\n",
       "  <tbody>\n",
       "    <tr>\n",
       "      <th>4</th>\n",
       "      <td>231AP202210334</td>\n",
       "      <td>M</td>\n",
       "      <td>P23</td>\n",
       "      <td>Twin Set</td>\n",
       "      <td>Shorts</td>\n",
       "      <td>Donna</td>\n",
       "      <td>NaN</td>\n",
       "      <td>NaN</td>\n",
       "      <td>NaN</td>\n",
       "      <td>Panna</td>\n",
       "      <td>NaN</td>\n",
       "      <td>46,50</td>\n",
       "      <td>125,00</td>\n",
       "      <td></td>\n",
       "      <td>NaN</td>\n",
       "      <td>NaN</td>\n",
       "      <td>NaN</td>\n",
       "      <td>NaN</td>\n",
       "      <td>NaN</td>\n",
       "      <td>1</td>\n",
       "      <td>https://manaoclub.it/manao_content/uploads/2023/04/231AP20221033401.jpg,https://manaoclub.it/manao_content/uploads/2023/04/231AP20221033402.jpg,https://manaoclub.it/manao_content/uploads/2023/04/231AP20221033403.jpg,https://manaoclub.it/manao_content/uploads/2023/04/231AP20221033404.jpg,https://manaoclub.it/manao_content/uploads/2023/04/231AP20221033405.jpg</td>\n",
       "      <td>Shorts Twin Set Panna</td>\n",
       "    </tr>\n",
       "    <tr>\n",
       "      <th>5</th>\n",
       "      <td>231AP202210334</td>\n",
       "      <td>S</td>\n",
       "      <td>P23</td>\n",
       "      <td>Twin Set</td>\n",
       "      <td>Shorts</td>\n",
       "      <td>Donna</td>\n",
       "      <td>NaN</td>\n",
       "      <td>NaN</td>\n",
       "      <td>NaN</td>\n",
       "      <td>Panna</td>\n",
       "      <td>NaN</td>\n",
       "      <td>46,50</td>\n",
       "      <td>125,00</td>\n",
       "      <td></td>\n",
       "      <td>NaN</td>\n",
       "      <td>NaN</td>\n",
       "      <td>NaN</td>\n",
       "      <td>NaN</td>\n",
       "      <td>NaN</td>\n",
       "      <td>2</td>\n",
       "      <td>https://manaoclub.it/manao_content/uploads/2023/04/231AP20221033401.jpg,https://manaoclub.it/manao_content/uploads/2023/04/231AP20221033402.jpg,https://manaoclub.it/manao_content/uploads/2023/04/231AP20221033403.jpg,https://manaoclub.it/manao_content/uploads/2023/04/231AP20221033404.jpg,https://manaoclub.it/manao_content/uploads/2023/04/231AP20221033405.jpg</td>\n",
       "      <td>Shorts Twin Set Panna</td>\n",
       "    </tr>\n",
       "    <tr>\n",
       "      <th>6</th>\n",
       "      <td>231AP202210334</td>\n",
       "      <td>XS</td>\n",
       "      <td>P23</td>\n",
       "      <td>Twin Set</td>\n",
       "      <td>Shorts</td>\n",
       "      <td>Donna</td>\n",
       "      <td>NaN</td>\n",
       "      <td>NaN</td>\n",
       "      <td>NaN</td>\n",
       "      <td>Panna</td>\n",
       "      <td>NaN</td>\n",
       "      <td>46,50</td>\n",
       "      <td>125,00</td>\n",
       "      <td></td>\n",
       "      <td>NaN</td>\n",
       "      <td>NaN</td>\n",
       "      <td>NaN</td>\n",
       "      <td>NaN</td>\n",
       "      <td>NaN</td>\n",
       "      <td>2</td>\n",
       "      <td>https://manaoclub.it/manao_content/uploads/2023/04/231AP20221033401.jpg,https://manaoclub.it/manao_content/uploads/2023/04/231AP20221033402.jpg,https://manaoclub.it/manao_content/uploads/2023/04/231AP20221033403.jpg,https://manaoclub.it/manao_content/uploads/2023/04/231AP20221033404.jpg,https://manaoclub.it/manao_content/uploads/2023/04/231AP20221033405.jpg</td>\n",
       "      <td>Shorts Twin Set Panna</td>\n",
       "    </tr>\n",
       "    <tr>\n",
       "      <th>7</th>\n",
       "      <td>231AP203010335</td>\n",
       "      <td>M</td>\n",
       "      <td>P23</td>\n",
       "      <td>Twin Set</td>\n",
       "      <td>Top</td>\n",
       "      <td>Donna</td>\n",
       "      <td>NaN</td>\n",
       "      <td>NaN</td>\n",
       "      <td>NaN</td>\n",
       "      <td>Bronzo</td>\n",
       "      <td>NaN</td>\n",
       "      <td>56,00</td>\n",
       "      <td>150,00</td>\n",
       "      <td></td>\n",
       "      <td>NaN</td>\n",
       "      <td>NaN</td>\n",
       "      <td>NaN</td>\n",
       "      <td>NaN</td>\n",
       "      <td>NaN</td>\n",
       "      <td>1</td>\n",
       "      <td>https://manaoclub.it/manao_content/uploads/2023/04/231AP20301033501.jpg,https://manaoclub.it/manao_content/uploads/2023/04/231AP20301033502.jpg,https://manaoclub.it/manao_content/uploads/2023/04/231AP20301033503.jpg,https://manaoclub.it/manao_content/uploads/2023/04/231AP20301033504.jpg,https://manaoclub.it/manao_content/uploads/2023/04/231AP20301033505.jpg</td>\n",
       "      <td>Top Twin Set Bronzo</td>\n",
       "    </tr>\n",
       "    <tr>\n",
       "      <th>8</th>\n",
       "      <td>231AP203010335</td>\n",
       "      <td>S</td>\n",
       "      <td>P23</td>\n",
       "      <td>Twin Set</td>\n",
       "      <td>Top</td>\n",
       "      <td>Donna</td>\n",
       "      <td>NaN</td>\n",
       "      <td>NaN</td>\n",
       "      <td>NaN</td>\n",
       "      <td>Bronzo</td>\n",
       "      <td>NaN</td>\n",
       "      <td>56,00</td>\n",
       "      <td>150,00</td>\n",
       "      <td></td>\n",
       "      <td>NaN</td>\n",
       "      <td>NaN</td>\n",
       "      <td>NaN</td>\n",
       "      <td>NaN</td>\n",
       "      <td>NaN</td>\n",
       "      <td>2</td>\n",
       "      <td>https://manaoclub.it/manao_content/uploads/2023/04/231AP20301033501.jpg,https://manaoclub.it/manao_content/uploads/2023/04/231AP20301033502.jpg,https://manaoclub.it/manao_content/uploads/2023/04/231AP20301033503.jpg,https://manaoclub.it/manao_content/uploads/2023/04/231AP20301033504.jpg,https://manaoclub.it/manao_content/uploads/2023/04/231AP20301033505.jpg</td>\n",
       "      <td>Top Twin Set Bronzo</td>\n",
       "    </tr>\n",
       "  </tbody>\n",
       "</table>\n",
       "</div>"
      ],
      "text/plain": [
       "3 ModelloVariante Taglia Sigla Stagione     Brand  Gruppo Settore  \\\n",
       "4  231AP202210334      M            P23  Twin Set  Shorts   Donna   \n",
       "5  231AP202210334      S            P23  Twin Set  Shorts   Donna   \n",
       "6  231AP202210334     XS            P23  Twin Set  Shorts   Donna   \n",
       "7  231AP203010335      M            P23  Twin Set     Top   Donna   \n",
       "8  231AP203010335      S            P23  Twin Set     Top   Donna   \n",
       "\n",
       "3 Descrizione Modello Motivo Tessuto  Colore Categoria Prezzo Acquisto  \\\n",
       "4                 NaN    NaN     NaN   Panna       NaN           46,50   \n",
       "5                 NaN    NaN     NaN   Panna       NaN           46,50   \n",
       "6                 NaN    NaN     NaN   Panna       NaN           46,50   \n",
       "7                 NaN    NaN     NaN  Bronzo       NaN           56,00   \n",
       "8                 NaN    NaN     NaN  Bronzo       NaN           56,00   \n",
       "\n",
       "3 Prezzo Vendita Cifrato Su sito descr. dettagliata Size & Fit Made In  \\\n",
       "4         125,00                                NaN        NaN     NaN   \n",
       "5         125,00                                NaN        NaN     NaN   \n",
       "6         125,00                                NaN        NaN     NaN   \n",
       "7         150,00                                NaN        NaN     NaN   \n",
       "8         150,00                                NaN        NaN     NaN   \n",
       "\n",
       "3 Composizione Codice Doganale Quantity  \\\n",
       "4          NaN             NaN        1   \n",
       "5          NaN             NaN        2   \n",
       "6          NaN             NaN        2   \n",
       "7          NaN             NaN        1   \n",
       "8          NaN             NaN        2   \n",
       "\n",
       "3                                                                                                                                                                                                                                                                                                                                                                Link Foto  \\\n",
       "4  https://manaoclub.it/manao_content/uploads/2023/04/231AP20221033401.jpg,https://manaoclub.it/manao_content/uploads/2023/04/231AP20221033402.jpg,https://manaoclub.it/manao_content/uploads/2023/04/231AP20221033403.jpg,https://manaoclub.it/manao_content/uploads/2023/04/231AP20221033404.jpg,https://manaoclub.it/manao_content/uploads/2023/04/231AP20221033405.jpg   \n",
       "5  https://manaoclub.it/manao_content/uploads/2023/04/231AP20221033401.jpg,https://manaoclub.it/manao_content/uploads/2023/04/231AP20221033402.jpg,https://manaoclub.it/manao_content/uploads/2023/04/231AP20221033403.jpg,https://manaoclub.it/manao_content/uploads/2023/04/231AP20221033404.jpg,https://manaoclub.it/manao_content/uploads/2023/04/231AP20221033405.jpg   \n",
       "6  https://manaoclub.it/manao_content/uploads/2023/04/231AP20221033401.jpg,https://manaoclub.it/manao_content/uploads/2023/04/231AP20221033402.jpg,https://manaoclub.it/manao_content/uploads/2023/04/231AP20221033403.jpg,https://manaoclub.it/manao_content/uploads/2023/04/231AP20221033404.jpg,https://manaoclub.it/manao_content/uploads/2023/04/231AP20221033405.jpg   \n",
       "7  https://manaoclub.it/manao_content/uploads/2023/04/231AP20301033501.jpg,https://manaoclub.it/manao_content/uploads/2023/04/231AP20301033502.jpg,https://manaoclub.it/manao_content/uploads/2023/04/231AP20301033503.jpg,https://manaoclub.it/manao_content/uploads/2023/04/231AP20301033504.jpg,https://manaoclub.it/manao_content/uploads/2023/04/231AP20301033505.jpg   \n",
       "8  https://manaoclub.it/manao_content/uploads/2023/04/231AP20301033501.jpg,https://manaoclub.it/manao_content/uploads/2023/04/231AP20301033502.jpg,https://manaoclub.it/manao_content/uploads/2023/04/231AP20301033503.jpg,https://manaoclub.it/manao_content/uploads/2023/04/231AP20301033504.jpg,https://manaoclub.it/manao_content/uploads/2023/04/231AP20301033505.jpg   \n",
       "\n",
       "3                   Name  \n",
       "4  Shorts Twin Set Panna  \n",
       "5  Shorts Twin Set Panna  \n",
       "6  Shorts Twin Set Panna  \n",
       "7    Top Twin Set Bronzo  \n",
       "8    Top Twin Set Bronzo  "
      ]
     },
     "execution_count": 43,
     "metadata": {},
     "output_type": "execute_result"
    }
   ],
   "source": [
    "df_atelier[\"Name\"] = df_atelier[\"Gruppo\"] + \" \" + df_atelier[\"Brand\"] + \" \" + df_atelier[\"Colore\"]\n",
    "df_atelier.head(5)"
   ]
  },
  {
   "cell_type": "markdown",
   "id": "b81c3fd8-c85b-4b9c-8117-a15581e312b1",
   "metadata": {},
   "source": [
    "#### Export Dataframe to .CSV file"
   ]
  },
  {
   "cell_type": "code",
   "execution_count": 57,
   "id": "fe8f2861-6737-454e-bec4-0f618ebd4bd8",
   "metadata": {},
   "outputs": [],
   "source": [
    "df_atelier.to_csv(\"Twin Set CSV Products.csv\")"
   ]
  }
 ],
 "metadata": {
  "kernelspec": {
   "display_name": "Python 3 (ipykernel)",
   "language": "python",
   "name": "python3"
  },
  "language_info": {
   "codemirror_mode": {
    "name": "ipython",
    "version": 3
   },
   "file_extension": ".py",
   "mimetype": "text/x-python",
   "name": "python",
   "nbconvert_exporter": "python",
   "pygments_lexer": "ipython3",
   "version": "3.9.13"
  }
 },
 "nbformat": 4,
 "nbformat_minor": 5
}
